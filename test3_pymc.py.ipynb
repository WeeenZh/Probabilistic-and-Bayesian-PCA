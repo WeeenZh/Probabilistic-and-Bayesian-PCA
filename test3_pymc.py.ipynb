{
 "cells": [
  {
   "cell_type": "markdown",
   "metadata": {},
   "source": [
    "Connected to py35 (Python 3.5.6)"
   ]
  },
  {
   "cell_type": "code",
   "execution_count": null,
   "id": "b71bfc4e-e579-4617-b711-f3ea00f75ae7",
   "metadata": {},
   "outputs": [],
   "source": [
    "# %%\n",
    "\n",
    "import numpy as np\n",
    "import pymc as pm\n",
    "import arviz as az\n",
    "import pytensor.tensor as tt\n",
    "import matplotlib.pyplot as plt\n",
    "\n",
    "\n",
    "class BayesianPCA:\n",
    "    def __init__(self, t, q, a_alpha=1e-3, b_alpha=1e-3, a_tau=1e-3, b_tau=1e-3, beta=1e-3):\n",
    "        self.t = t\n",
    "        self.N, self.d = t.shape\n",
    "        self.q = q\n",
    "        self.a_alpha = a_alpha\n",
    "        self.b_alpha = b_alpha\n",
    "        self.a_tau = a_tau\n",
    "        self.b_tau = b_tau\n",
    "        self.beta = beta\n",
    "\n",
    "    def fit(\n",
    "        self, iterations=1000, method='nuts',\n",
    "        tune=0,\n",
    "        chains=1,\n",
    "        ):\n",
    "        with pm.Model() as model:\n",
    "            # Priors\n",
    "            mu = pm.Normal('mu', mu=0, sigma=np.sqrt(1/self.beta), shape=self.d)\n",
    "            tau = pm.Gamma('tau', alpha=self.a_tau, beta=self.b_tau)\n",
    "            alpha = pm.Gamma('alpha', alpha=self.a_alpha, beta=self.b_alpha, shape=self.q)\n",
    "            \n",
    "            W = pm.MatrixNormal('W', mu=np.zeros((self.d, self.q)), \n",
    "                                rowcov=np.eye(self.d), colcov=tt.diag(1/alpha))\n",
    "\n",
    "            # Latent variables\n",
    "            x = pm.Normal('x', mu=0, sigma=1, shape=(self.N, self.q))\n",
    "            \n",
    "            # Likelihood\n",
    "            t_obs = pm.MatrixNormal('t_obs', mu=pm.math.dot(x, W.T) + mu, \n",
    "                                    rowcov=np.eye(self.N), colcov=np.eye(self.d) / tau, observed=self.t)\n",
    "\n",
    "            # Sampling method\n",
    "            if method == 'nuts':\n",
    "                trace = pm.sample(iterations, return_inferencedata=True, progressbar=True, tune=tune, chains=chains)\n",
    "            elif method == 'metropolis':\n",
    "                trace = pm.sample(iterations, step=pm.Metropolis(), return_inferencedata=True, progressbar=True, tune=tune, chains=chains)\n",
    "            elif method == 'slice':\n",
    "                trace = pm.sample(iterations, step=pm.Slice(), return_inferencedata=True, progressbar=True, tune=tune, chains=chains)\n",
    "            elif method == 'hmc':\n",
    "                trace = pm.sample(iterations, step=pm.HamiltonianMC(), return_inferencedata=True, progressbar=True, tune=tune, chains=chains)\n",
    "            elif method == 'smc':\n",
    "                trace = pm.sample_smc(iterations, progressbar=True, return_inferencedata=True, tune=tune, chains=chains)\n",
    "\n",
    "        self.trace = trace"
   ]
  },
  {
   "cell_type": "code",
   "execution_count": null,
   "id": "6077ec7e-29f5-457d-9af0-6bba862edd39",
   "metadata": {},
   "outputs": [],
   "source": [
    "# %%\n",
    "\n",
    "import numpy as np\n",
    "import pymc as pm\n",
    "import arviz as az\n",
    "import pytensor.tensor as tt\n",
    "import matplotlib.pyplot as plt\n",
    "\n",
    "\n",
    "class BayesianPCA:\n",
    "    def __init__(self, t, q, a_alpha=1e-3, b_alpha=1e-3, a_tau=1e-3, b_tau=1e-3, beta=1e-3):\n",
    "        self.t = t\n",
    "        self.N, self.d = t.shape\n",
    "        self.q = q\n",
    "        self.a_alpha = a_alpha\n",
    "        self.b_alpha = b_alpha\n",
    "        self.a_tau = a_tau\n",
    "        self.b_tau = b_tau\n",
    "        self.beta = beta\n",
    "\n",
    "    def fit(\n",
    "        self, iterations=1000, method='nuts',\n",
    "        tune=0,\n",
    "        chains=1,\n",
    "        ):\n",
    "        with pm.Model() as model:\n",
    "            # Priors\n",
    "            mu = pm.Normal('mu', mu=0, sigma=np.sqrt(1/self.beta), shape=self.d)\n",
    "            tau = pm.Gamma('tau', alpha=self.a_tau, beta=self.b_tau)\n",
    "            alpha = pm.Gamma('alpha', alpha=self.a_alpha, beta=self.b_alpha, shape=self.q)\n",
    "            \n",
    "            W = pm.MatrixNormal('W', mu=np.zeros((self.d, self.q)), \n",
    "                                rowcov=np.eye(self.d), colcov=tt.diag(1/alpha))\n",
    "\n",
    "            # Latent variables\n",
    "            x = pm.Normal('x', mu=0, sigma=1, shape=(self.N, self.q))\n",
    "            \n",
    "            # Likelihood\n",
    "            t_obs = pm.MatrixNormal('t_obs', mu=pm.math.dot(x, W.T) + mu, \n",
    "                                    rowcov=np.eye(self.N), colcov=np.eye(self.d) / tau, observed=self.t)\n",
    "\n",
    "            # Sampling method\n",
    "            if method == 'nuts':\n",
    "                trace = pm.sample(iterations, return_inferencedata=True, progressbar=True, tune=tune, chains=chains)\n",
    "            elif method == 'metropolis':\n",
    "                trace = pm.sample(iterations, step=pm.Metropolis(), return_inferencedata=True, progressbar=True, tune=tune, chains=chains)\n",
    "            elif method == 'slice':\n",
    "                trace = pm.sample(iterations, step=pm.Slice(), return_inferencedata=True, progressbar=True, tune=tune, chains=chains)\n",
    "            elif method == 'hmc':\n",
    "                trace = pm.sample(iterations, step=pm.HamiltonianMC(), return_inferencedata=True, progressbar=True, tune=tune, chains=chains)\n",
    "            elif method == 'smc':\n",
    "                trace = pm.sample_smc(iterations, progressbar=True, return_inferencedata=True, tune=tune, chains=chains)\n",
    "\n",
    "        self.trace = trace"
   ]
  },
  {
   "cell_type": "code",
   "execution_count": null,
   "metadata": {},
   "outputs": [
    {
     "data": {
      "text/plain": [
       "'5.16.2'"
      ]
     },
     "execution_count": 15,
     "metadata": {},
     "output_type": "execute_result"
    }
   ],
   "source": [
    "pm.__version__"
   ]
  },
  {
   "cell_type": "code",
   "execution_count": null,
   "id": "a148835c-3843-4f5f-a908-5ef16bdb1121",
   "metadata": {},
   "outputs": [],
   "source": [
    "# %%\n",
    "\n",
    "'''\n",
    "the latest version of pymc\n",
    "'''\n",
    "import numpy as np\n",
    "import pymc as pm\n",
    "import arviz as az\n",
    "import pytensor.tensor as tt\n",
    "import matplotlib.pyplot as plt\n",
    "\n",
    "\n",
    "class BayesianPCA:\n",
    "    def __init__(self, t, q, a_alpha=1e-3, b_alpha=1e-3, a_tau=1e-3, b_tau=1e-3, beta=1e-3):\n",
    "        self.t = t\n",
    "        self.N, self.d = t.shape\n",
    "        self.q = q\n",
    "        self.a_alpha = a_alpha\n",
    "        self.b_alpha = b_alpha\n",
    "        self.a_tau = a_tau\n",
    "        self.b_tau = b_tau\n",
    "        self.beta = beta\n",
    "\n",
    "    def fit(\n",
    "        self, iterations=1000, method='nuts',\n",
    "        tune=0,\n",
    "        chains=1,\n",
    "        ):\n",
    "        with pm.Model() as model:\n",
    "            # Priors\n",
    "            mu = pm.Normal('mu', mu=0, sigma=np.sqrt(1/self.beta), shape=self.d)\n",
    "            tau = pm.Gamma('tau', alpha=self.a_tau, beta=self.b_tau)\n",
    "            alpha = pm.Gamma('alpha', alpha=self.a_alpha, beta=self.b_alpha, shape=self.q)\n",
    "            \n",
    "            W = pm.MatrixNormal('W', mu=np.zeros((self.d, self.q)), \n",
    "                                rowcov=np.eye(self.d), colcov=tt.diag(1/alpha))\n",
    "\n",
    "            # Latent variables\n",
    "            x = pm.Normal('x', mu=0, sigma=1, shape=(self.N, self.q))\n",
    "            \n",
    "            # Likelihood\n",
    "            t_obs = pm.MatrixNormal('t_obs', mu=pm.math.dot(x, W.T) + mu, \n",
    "                                    rowcov=np.eye(self.N), colcov=np.eye(self.d) / tau, observed=self.t)\n",
    "\n",
    "            # Sampling method\n",
    "            if method == 'nuts':\n",
    "                trace = pm.sample(iterations, return_inferencedata=True, progressbar=True, tune=tune, chains=chains)\n",
    "            elif method == 'metropolis':\n",
    "                trace = pm.sample(iterations, step=pm.Metropolis(), return_inferencedata=True, progressbar=True, tune=tune, chains=chains)\n",
    "            elif method == 'slice':\n",
    "                trace = pm.sample(iterations, step=pm.Slice(), return_inferencedata=True, progressbar=True, tune=tune, chains=chains)\n",
    "            elif method == 'hmc':\n",
    "                trace = pm.sample(iterations, step=pm.HamiltonianMC(), return_inferencedata=True, progressbar=True, tune=tune, chains=chains)\n",
    "            elif method == 'smc':\n",
    "                trace = pm.sample_smc(iterations, progressbar=True, return_inferencedata=True, tune=tune, chains=chains)\n",
    "\n",
    "        self.trace = trace"
   ]
  },
  {
   "cell_type": "code",
   "execution_count": null,
   "id": "6615b4e6-f62e-4a6a-a204-b939ed340cea",
   "metadata": {},
   "outputs": [],
   "source": [
    "# %%\n",
    "\n",
    "def simulate_data(psi=1, N=100, P=10):\n",
    "    psi_inv = 1 / psi\n",
    "    cov = np.diag([5, 4, 3, 2] + [psi_inv] * (P - 4))\n",
    "\n",
    "    # Generate a random orthogonal matrix U\n",
    "    random_matrix = np.random.randn(P, P)\n",
    "    U, _, _ = np.linalg.svd(random_matrix)\n",
    "    \n",
    "    # Transform the covariance matrix\n",
    "    cov = U @ cov @ U.T\n",
    "\n",
    "    return np.random.multivariate_normal(np.zeros(P), cov, N)"
   ]
  },
  {
   "cell_type": "code",
   "execution_count": null,
   "id": "afd61461-ecf8-4830-a20b-61e9d0fd901a",
   "metadata": {},
   "outputs": [],
   "source": [
    "# %%\n",
    "\n",
    "# Simulate data with noise\n",
    "var_noise = 1e-1\n",
    "data = simulate_data(\n",
    "    psi=var_noise**(-1), \n",
    "    N=100\n",
    "    )"
   ]
  },
  {
   "cell_type": "code",
   "execution_count": null,
   "id": "09d9d7b0-da47-4ed7-972f-92d206b79ad9",
   "metadata": {},
   "outputs": [
    {
     "name": "stderr",
     "output_type": "stream",
     "text": [
      "/home/sci/wztao/miniconda3/envs/pymc_/lib/python3.11/site-packages/pytensor/tensor/nlinalg.py:182: FutureWarning: pytensor.tensor.linalg.trace is deprecated. Use pytensor.tensor.trace instead.\n",
      "  warnings.warn(\n",
      "/home/sci/wztao/miniconda3/envs/pymc_/lib/python3.11/site-packages/pytensor/tensor/nlinalg.py:182: FutureWarning: pytensor.tensor.linalg.trace is deprecated. Use pytensor.tensor.trace instead.\n",
      "  warnings.warn(\n",
      "Auto-assigning NUTS sampler...\n",
      "Initializing NUTS using jitter+adapt_diag...\n",
      "/home/sci/wztao/miniconda3/envs/pymc_/lib/python3.11/site-packages/pytensor/tensor/nlinalg.py:182: FutureWarning: pytensor.tensor.linalg.trace is deprecated. Use pytensor.tensor.trace instead.\n",
      "  warnings.warn(\n",
      "/home/sci/wztao/miniconda3/envs/pymc_/lib/python3.11/site-packages/pytensor/tensor/nlinalg.py:182: FutureWarning: pytensor.tensor.linalg.trace is deprecated. Use pytensor.tensor.trace instead.\n",
      "  warnings.warn(\n",
      "/home/sci/wztao/miniconda3/envs/pymc_/lib/python3.11/site-packages/pytensor/tensor/nlinalg.py:182: FutureWarning: pytensor.tensor.linalg.trace is deprecated. Use pytensor.tensor.trace instead.\n",
      "  warnings.warn(\n",
      "Sequential sampling (1 chains in 1 job)\n",
      "NUTS: [mu, tau, alpha, W, x]\n"
     ]
    },
    {
     "data": {
      "application/vnd.jupyter.widget-view+json": {
       "model_id": "2f83f259ddc646ccb603817799f64c3f",
       "version_major": 2,
       "version_minor": 0
      },
      "text/plain": [
       "Output()"
      ]
     },
     "metadata": {},
     "output_type": "display_data"
    },
    {
     "data": {
      "text/html": [
       "<pre style=\"white-space:pre;overflow-x:auto;line-height:normal;font-family:Menlo,'DejaVu Sans Mono',consolas,'Courier New',monospace\"></pre>\n"
      ],
      "text/plain": []
     },
     "metadata": {},
     "output_type": "display_data"
    },
    {
     "data": {
      "text/html": [
       "<pre style=\"white-space:pre;overflow-x:auto;line-height:normal;font-family:Menlo,'DejaVu Sans Mono',consolas,'Courier New',monospace\">\n",
       "</pre>\n"
      ],
      "text/plain": [
       "\n"
      ]
     },
     "metadata": {},
     "output_type": "display_data"
    },
    {
     "name": "stderr",
     "output_type": "stream",
     "text": [
      "Sampling 1 chain for 100 tune and 500 draw iterations (100 + 500 draws total) took 129 seconds.\n",
      "Only one chain was sampled, this makes it impossible to run some convergence checks\n"
     ]
    }
   ],
   "source": [
    "# %%\n",
    "\n",
    "bpca = BayesianPCA(data, q=data.shape[1] - 1)\n",
    "bpca.fit(\n",
    "    iterations=500,\n",
    "    tune=100,\n",
    "    method='nuts',\n",
    "    # method = 'metropolis'\n",
    "    )"
   ]
  },
  {
   "cell_type": "code",
   "execution_count": null,
   "id": "ee821ee9-d2f5-472a-8e84-366316355f4f",
   "metadata": {},
   "outputs": [
    {
     "data": {
      "text/plain": [
       "[<matplotlib.lines.Line2D at 0x7fec89be7f90>]"
      ]
     },
     "execution_count": 26,
     "metadata": {},
     "output_type": "execute_result"
    },
    {
     "data": {
      "image/png": "[encoded data removed]",
      "text/plain": [
       "<Figure size 640x480 with 1 Axes>"
      ]
     },
     "metadata": {},
     "output_type": "display_data"
    }
   ],
   "source": [
    "# %%\n",
    "\n",
    "# mean of samples of alpha\n",
    "alpha_samples = bpca.trace.posterior['alpha'].values\n",
    "alpha_samples_mean = alpha_samples.mean(axis=(0,1))\n",
    "plt.plot(sorted(alpha_samples_mean**(-1), reverse=True))"
   ]
  },
  {
   "cell_type": "code",
   "execution_count": null,
   "id": "b02ea310-8805-4738-b4f7-e8d04a9df178",
   "metadata": {},
   "outputs": [
    {
     "name": "stderr",
     "output_type": "stream",
     "text": [
      "Only 1 samples per chain. Reliable r-hat and ESS diagnostics require longer chains for accurate estimate.\n",
      "/home/sci/wztao/miniconda3/envs/pymc_/lib/python3.11/site-packages/pytensor/tensor/nlinalg.py:182: FutureWarning: pytensor.tensor.linalg.trace is deprecated. Use pytensor.tensor.trace instead.\n",
      "  warnings.warn(\n",
      "/home/sci/wztao/miniconda3/envs/pymc_/lib/python3.11/site-packages/pytensor/tensor/nlinalg.py:182: FutureWarning: pytensor.tensor.linalg.trace is deprecated. Use pytensor.tensor.trace instead.\n",
      "  warnings.warn(\n",
      "Auto-assigning NUTS sampler...\n",
      "Initializing NUTS using jitter+adapt_diag...\n",
      "/home/sci/wztao/miniconda3/envs/pymc_/lib/python3.11/site-packages/pytensor/tensor/nlinalg.py:182: FutureWarning: pytensor.tensor.linalg.trace is deprecated. Use pytensor.tensor.trace instead.\n",
      "  warnings.warn(\n",
      "/home/sci/wztao/miniconda3/envs/pymc_/lib/python3.11/site-packages/pytensor/tensor/nlinalg.py:182: FutureWarning: pytensor.tensor.linalg.trace is deprecated. Use pytensor.tensor.trace instead.\n",
      "  warnings.warn(\n",
      "/home/sci/wztao/miniconda3/envs/pymc_/lib/python3.11/site-packages/pytensor/tensor/nlinalg.py:182: FutureWarning: pytensor.tensor.linalg.trace is deprecated. Use pytensor.tensor.trace instead.\n",
      "  warnings.warn(\n",
      "Sequential sampling (1 chains in 1 job)\n",
      "NUTS: [mu, tau, alpha, W, x]\n"
     ]
    },
    {
     "data": {
      "application/vnd.jupyter.widget-view+json": {
       "model_id": "248cd8cec8dc4b7ba3a47d4d019a81e2",
       "version_major": 2,
       "version_minor": 0
      },
      "text/plain": [
       "Output()"
      ]
     },
     "metadata": {},
     "output_type": "display_data"
    },
    {
     "data": {
      "text/html": [
       "<pre style=\"white-space:pre;overflow-x:auto;line-height:normal;font-family:Menlo,'DejaVu Sans Mono',consolas,'Courier New',monospace\"></pre>\n"
      ],
      "text/plain": []
     },
     "metadata": {},
     "output_type": "display_data"
    },
    {
     "data": {
      "text/html": [
       "<pre style=\"white-space:pre;overflow-x:auto;line-height:normal;font-family:Menlo,'DejaVu Sans Mono',consolas,'Courier New',monospace\">\n",
       "</pre>\n"
      ],
      "text/plain": [
       "\n"
      ]
     },
     "metadata": {},
     "output_type": "display_data"
    },
    {
     "name": "stderr",
     "output_type": "stream",
     "text": [
      "Sampling 1 chain for 0 tune and 1 draw iterations (0 + 1 draws total) took 0 seconds.\n",
      "There were 1 divergences after tuning. Increase `target_accept` or reparameterize.\n",
      "The number of samples is too small to check convergence reliably.\n",
      "Only 1 samples per chain. Reliable r-hat and ESS diagnostics require longer chains for accurate estimate.\n",
      "/home/sci/wztao/miniconda3/envs/pymc_/lib/python3.11/site-packages/pytensor/tensor/nlinalg.py:182: FutureWarning: pytensor.tensor.linalg.trace is deprecated. Use pytensor.tensor.trace instead.\n",
      "  warnings.warn(\n",
      "/home/sci/wztao/miniconda3/envs/pymc_/lib/python3.11/site-packages/pytensor/tensor/nlinalg.py:182: FutureWarning: pytensor.tensor.linalg.trace is deprecated. Use pytensor.tensor.trace instead.\n",
      "  warnings.warn(\n",
      "Auto-assigning NUTS sampler...\n",
      "Initializing NUTS using jitter+adapt_diag...\n",
      "/home/sci/wztao/miniconda3/envs/pymc_/lib/python3.11/site-packages/pytensor/tensor/nlinalg.py:182: FutureWarning: pytensor.tensor.linalg.trace is deprecated. Use pytensor.tensor.trace instead.\n",
      "  warnings.warn(\n",
      "/home/sci/wztao/miniconda3/envs/pymc_/lib/python3.11/site-packages/pytensor/tensor/nlinalg.py:182: FutureWarning: pytensor.tensor.linalg.trace is deprecated. Use pytensor.tensor.trace instead.\n",
      "  warnings.warn(\n",
      "/home/sci/wztao/miniconda3/envs/pymc_/lib/python3.11/site-packages/pytensor/tensor/nlinalg.py:182: FutureWarning: pytensor.tensor.linalg.trace is deprecated. Use pytensor.tensor.trace instead.\n",
      "  warnings.warn(\n",
      "Sequential sampling (1 chains in 1 job)\n",
      "NUTS: [mu, tau, alpha, W, x]\n"
     ]
    },
    {
     "data": {
      "application/vnd.jupyter.widget-view+json": {
       "model_id": "b42b2c0ee36b4b96b613a82cfa85071f",
       "version_major": 2,
       "version_minor": 0
      },
      "text/plain": [
       "Output()"
      ]
     },
     "metadata": {},
     "output_type": "display_data"
    },
    {
     "data": {
      "text/html": [
       "<pre style=\"white-space:pre;overflow-x:auto;line-height:normal;font-family:Menlo,'DejaVu Sans Mono',consolas,'Courier New',monospace\"></pre>\n"
      ],
      "text/plain": []
     },
     "metadata": {},
     "output_type": "display_data"
    },
    {
     "data": {
      "text/html": [
       "<pre style=\"white-space:pre;overflow-x:auto;line-height:normal;font-family:Menlo,'DejaVu Sans Mono',consolas,'Courier New',monospace\">\n",
       "</pre>\n"
      ],
      "text/plain": [
       "\n"
      ]
     },
     "metadata": {},
     "output_type": "display_data"
    },
    {
     "name": "stderr",
     "output_type": "stream",
     "text": [
      "Sampling 1 chain for 0 tune and 1 draw iterations (0 + 1 draws total) took 0 seconds.\n",
      "The number of samples is too small to check convergence reliably.\n",
      "Only 1 samples per chain. Reliable r-hat and ESS diagnostics require longer chains for accurate estimate.\n",
      "/home/sci/wztao/miniconda3/envs/pymc_/lib/python3.11/site-packages/pytensor/tensor/nlinalg.py:182: FutureWarning: pytensor.tensor.linalg.trace is deprecated. Use pytensor.tensor.trace instead.\n",
      "  warnings.warn(\n",
      "/home/sci/wztao/miniconda3/envs/pymc_/lib/python3.11/site-packages/pytensor/tensor/nlinalg.py:182: FutureWarning: pytensor.tensor.linalg.trace is deprecated. Use pytensor.tensor.trace instead.\n",
      "  warnings.warn(\n",
      "Auto-assigning NUTS sampler...\n",
      "Initializing NUTS using jitter+adapt_diag...\n",
      "/home/sci/wztao/miniconda3/envs/pymc_/lib/python3.11/site-packages/pytensor/tensor/nlinalg.py:182: FutureWarning: pytensor.tensor.linalg.trace is deprecated. Use pytensor.tensor.trace instead.\n",
      "  warnings.warn(\n",
      "/home/sci/wztao/miniconda3/envs/pymc_/lib/python3.11/site-packages/pytensor/tensor/nlinalg.py:182: FutureWarning: pytensor.tensor.linalg.trace is deprecated. Use pytensor.tensor.trace instead.\n",
      "  warnings.warn(\n",
      "/home/sci/wztao/miniconda3/envs/pymc_/lib/python3.11/site-packages/pytensor/tensor/nlinalg.py:182: FutureWarning: pytensor.tensor.linalg.trace is deprecated. Use pytensor.tensor.trace instead.\n",
      "  warnings.warn(\n",
      "Sequential sampling (1 chains in 1 job)\n",
      "NUTS: [mu, tau, alpha, W, x]\n"
     ]
    },
    {
     "data": {
      "application/vnd.jupyter.widget-view+json": {
       "model_id": "d7f15dd4a8dd4dff9fcea0e6b7a33789",
       "version_major": 2,
       "version_minor": 0
      },
      "text/plain": [
       "Output()"
      ]
     },
     "metadata": {},
     "output_type": "display_data"
    },
    {
     "data": {
      "text/html": [
       "<pre style=\"white-space:pre;overflow-x:auto;line-height:normal;font-family:Menlo,'DejaVu Sans Mono',consolas,'Courier New',monospace\"></pre>\n"
      ],
      "text/plain": []
     },
     "metadata": {},
     "output_type": "display_data"
    },
    {
     "data": {
      "text/html": [
       "<pre style=\"white-space:pre;overflow-x:auto;line-height:normal;font-family:Menlo,'DejaVu Sans Mono',consolas,'Courier New',monospace\">\n",
       "</pre>\n"
      ],
      "text/plain": [
       "\n"
      ]
     },
     "metadata": {},
     "output_type": "display_data"
    },
    {
     "name": "stderr",
     "output_type": "stream",
     "text": [
      "Sampling 1 chain for 0 tune and 1 draw iterations (0 + 1 draws total) took 0 seconds.\n",
      "The number of samples is too small to check convergence reliably.\n"
     ]
    },
    {
     "name": "stdout",
     "output_type": "stream",
     "text": [
      "6.47 s ± 76.9 ms per loop (mean ± std. dev. of 3 runs, 1 loop each)\n"
     ]
    }
   ],
   "source": [
    "# %%\n",
    "\n",
    "%%timeit -n 1 -r 3\n",
    "bpca.fit(\n",
    "    iterations=1,\n",
    "    tune=0,\n",
    "    method='nuts',\n",
    "    # method = 'metropolis'\n",
    "    )"
   ]
  },
  {
   "cell_type": "code",
   "execution_count": null,
   "id": "7a3d66e5-0447-4781-897a-bfef6a48ba78",
   "metadata": {},
   "outputs": [
    {
     "name": "stderr",
     "output_type": "stream",
     "text": [
      "/home/sci/wztao/miniconda3/envs/pymc_/lib/python3.11/site-packages/pytensor/tensor/nlinalg.py:182: FutureWarning: pytensor.tensor.linalg.trace is deprecated. Use pytensor.tensor.trace instead.\n",
      "  warnings.warn(\n",
      "/home/sci/wztao/miniconda3/envs/pymc_/lib/python3.11/site-packages/pytensor/tensor/nlinalg.py:182: FutureWarning: pytensor.tensor.linalg.trace is deprecated. Use pytensor.tensor.trace instead.\n",
      "  warnings.warn(\n",
      "Auto-assigning NUTS sampler...\n",
      "Initializing NUTS using jitter+adapt_diag...\n",
      "/home/sci/wztao/miniconda3/envs/pymc_/lib/python3.11/site-packages/pytensor/tensor/nlinalg.py:182: FutureWarning: pytensor.tensor.linalg.trace is deprecated. Use pytensor.tensor.trace instead.\n",
      "  warnings.warn(\n",
      "/home/sci/wztao/miniconda3/envs/pymc_/lib/python3.11/site-packages/pytensor/tensor/nlinalg.py:182: FutureWarning: pytensor.tensor.linalg.trace is deprecated. Use pytensor.tensor.trace instead.\n",
      "  warnings.warn(\n",
      "/home/sci/wztao/miniconda3/envs/pymc_/lib/python3.11/site-packages/pytensor/tensor/nlinalg.py:182: FutureWarning: pytensor.tensor.linalg.trace is deprecated. Use pytensor.tensor.trace instead.\n",
      "  warnings.warn(\n",
      "Sequential sampling (1 chains in 1 job)\n",
      "NUTS: [mu, tau, alpha, W, x]\n"
     ]
    },
    {
     "data": {
      "application/vnd.jupyter.widget-view+json": {
       "model_id": "795d915535784f0c91ee6c7f9824d3e4",
       "version_major": 2,
       "version_minor": 0
      },
      "text/plain": [
       "Output()"
      ]
     },
     "metadata": {},
     "output_type": "display_data"
    },
    {
     "data": {
      "text/html": [
       "<pre style=\"white-space:pre;overflow-x:auto;line-height:normal;font-family:Menlo,'DejaVu Sans Mono',consolas,'Courier New',monospace\"></pre>\n"
      ],
      "text/plain": []
     },
     "metadata": {},
     "output_type": "display_data"
    },
    {
     "data": {
      "text/html": [
       "<pre style=\"white-space:pre;overflow-x:auto;line-height:normal;font-family:Menlo,'DejaVu Sans Mono',consolas,'Courier New',monospace\">\n",
       "</pre>\n"
      ],
      "text/plain": [
       "\n"
      ]
     },
     "metadata": {},
     "output_type": "display_data"
    },
    {
     "name": "stderr",
     "output_type": "stream",
     "text": [
      "Sampling 1 chain for 0 tune and 101 draw iterations (0 + 101 draws total) took 10 seconds.\n",
      "There were 42 divergences after tuning. Increase `target_accept` or reparameterize.\n",
      "Only one chain was sampled, this makes it impossible to run some convergence checks\n",
      "/home/sci/wztao/miniconda3/envs/pymc_/lib/python3.11/site-packages/pytensor/tensor/nlinalg.py:182: FutureWarning: pytensor.tensor.linalg.trace is deprecated. Use pytensor.tensor.trace instead.\n",
      "  warnings.warn(\n",
      "/home/sci/wztao/miniconda3/envs/pymc_/lib/python3.11/site-packages/pytensor/tensor/nlinalg.py:182: FutureWarning: pytensor.tensor.linalg.trace is deprecated. Use pytensor.tensor.trace instead.\n",
      "  warnings.warn(\n",
      "Auto-assigning NUTS sampler...\n",
      "Initializing NUTS using jitter+adapt_diag...\n",
      "/home/sci/wztao/miniconda3/envs/pymc_/lib/python3.11/site-packages/pytensor/tensor/nlinalg.py:182: FutureWarning: pytensor.tensor.linalg.trace is deprecated. Use pytensor.tensor.trace instead.\n",
      "  warnings.warn(\n",
      "/home/sci/wztao/miniconda3/envs/pymc_/lib/python3.11/site-packages/pytensor/tensor/nlinalg.py:182: FutureWarning: pytensor.tensor.linalg.trace is deprecated. Use pytensor.tensor.trace instead.\n",
      "  warnings.warn(\n",
      "/home/sci/wztao/miniconda3/envs/pymc_/lib/python3.11/site-packages/pytensor/tensor/nlinalg.py:182: FutureWarning: pytensor.tensor.linalg.trace is deprecated. Use pytensor.tensor.trace instead.\n",
      "  warnings.warn(\n",
      "Sequential sampling (1 chains in 1 job)\n",
      "NUTS: [mu, tau, alpha, W, x]\n"
     ]
    },
    {
     "data": {
      "application/vnd.jupyter.widget-view+json": {
       "model_id": "43e33426adac47ef93ad38be02592aa3",
       "version_major": 2,
       "version_minor": 0
      },
      "text/plain": [
       "Output()"
      ]
     },
     "metadata": {},
     "output_type": "display_data"
    },
    {
     "data": {
      "text/html": [
       "<pre style=\"white-space:pre;overflow-x:auto;line-height:normal;font-family:Menlo,'DejaVu Sans Mono',consolas,'Courier New',monospace\"></pre>\n"
      ],
      "text/plain": []
     },
     "metadata": {},
     "output_type": "display_data"
    },
    {
     "data": {
      "text/html": [
       "<pre style=\"white-space:pre;overflow-x:auto;line-height:normal;font-family:Menlo,'DejaVu Sans Mono',consolas,'Courier New',monospace\">\n",
       "</pre>\n"
      ],
      "text/plain": [
       "\n"
      ]
     },
     "metadata": {},
     "output_type": "display_data"
    },
    {
     "name": "stderr",
     "output_type": "stream",
     "text": [
      "Sampling 1 chain for 0 tune and 101 draw iterations (0 + 101 draws total) took 7 seconds.\n",
      "There were 38 divergences after tuning. Increase `target_accept` or reparameterize.\n",
      "Only one chain was sampled, this makes it impossible to run some convergence checks\n",
      "/home/sci/wztao/miniconda3/envs/pymc_/lib/python3.11/site-packages/pytensor/tensor/nlinalg.py:182: FutureWarning: pytensor.tensor.linalg.trace is deprecated. Use pytensor.tensor.trace instead.\n",
      "  warnings.warn(\n",
      "/home/sci/wztao/miniconda3/envs/pymc_/lib/python3.11/site-packages/pytensor/tensor/nlinalg.py:182: FutureWarning: pytensor.tensor.linalg.trace is deprecated. Use pytensor.tensor.trace instead.\n",
      "  warnings.warn(\n",
      "Auto-assigning NUTS sampler...\n",
      "Initializing NUTS using jitter+adapt_diag...\n",
      "/home/sci/wztao/miniconda3/envs/pymc_/lib/python3.11/site-packages/pytensor/tensor/nlinalg.py:182: FutureWarning: pytensor.tensor.linalg.trace is deprecated. Use pytensor.tensor.trace instead.\n",
      "  warnings.warn(\n",
      "/home/sci/wztao/miniconda3/envs/pymc_/lib/python3.11/site-packages/pytensor/tensor/nlinalg.py:182: FutureWarning: pytensor.tensor.linalg.trace is deprecated. Use pytensor.tensor.trace instead.\n",
      "  warnings.warn(\n",
      "/home/sci/wztao/miniconda3/envs/pymc_/lib/python3.11/site-packages/pytensor/tensor/nlinalg.py:182: FutureWarning: pytensor.tensor.linalg.trace is deprecated. Use pytensor.tensor.trace instead.\n",
      "  warnings.warn(\n",
      "Sequential sampling (1 chains in 1 job)\n",
      "NUTS: [mu, tau, alpha, W, x]\n"
     ]
    },
    {
     "data": {
      "application/vnd.jupyter.widget-view+json": {
       "model_id": "f4a85c3a7b9c401daa92f77fb80f3be6",
       "version_major": 2,
       "version_minor": 0
      },
      "text/plain": [
       "Output()"
      ]
     },
     "metadata": {},
     "output_type": "display_data"
    },
    {
     "data": {
      "text/html": [
       "<pre style=\"white-space:pre;overflow-x:auto;line-height:normal;font-family:Menlo,'DejaVu Sans Mono',consolas,'Courier New',monospace\"></pre>\n"
      ],
      "text/plain": []
     },
     "metadata": {},
     "output_type": "display_data"
    },
    {
     "data": {
      "text/html": [
       "<pre style=\"white-space:pre;overflow-x:auto;line-height:normal;font-family:Menlo,'DejaVu Sans Mono',consolas,'Courier New',monospace\">\n",
       "</pre>\n"
      ],
      "text/plain": [
       "\n"
      ]
     },
     "metadata": {},
     "output_type": "display_data"
    },
    {
     "name": "stderr",
     "output_type": "stream",
     "text": [
      "Sampling 1 chain for 0 tune and 101 draw iterations (0 + 101 draws total) took 10 seconds.\n",
      "There were 37 divergences after tuning. Increase `target_accept` or reparameterize.\n",
      "Only one chain was sampled, this makes it impossible to run some convergence checks\n"
     ]
    },
    {
     "name": "stdout",
     "output_type": "stream",
     "text": [
      "15.2 s ± 1.63 s per loop (mean ± std. dev. of 3 runs, 1 loop each)\n"
     ]
    }
   ],
   "source": [
    "# %%\n",
    "\n",
    "%%timeit -n 1 -r 3\n",
    "bpca.fit(\n",
    "    iterations=101,\n",
    "    tune=0,\n",
    "    method='nuts',\n",
    "    )"
   ]
  },
  {
   "cell_type": "code",
   "execution_count": null,
   "id": "82795caa-a897-4901-9931-ea93ccf2bc65",
   "metadata": {},
   "outputs": [
    {
     "name": "stdout",
     "output_type": "stream",
     "text": [
      "method = metropolis\n"
     ]
    }
   ],
   "source": [
    "# %%\n",
    "\n",
    "'''\n",
    "time each sampling method\n",
    "'''\n",
    "# method = 'nuts'\n",
    "method = 'metropolis'\n",
    "# method = 'hmc'\n",
    "# method = 'smc'\n",
    "print(f'method = {method}')"
   ]
  },
  {
   "cell_type": "code",
   "execution_count": null,
   "id": "963441b9-b21b-47b8-a83b-49286861543e",
   "metadata": {},
   "outputs": [
    {
     "name": "stderr",
     "output_type": "stream",
     "text": [
      "/home/sci/wztao/miniconda3/envs/pymc_/lib/python3.11/site-packages/pytensor/tensor/nlinalg.py:182: FutureWarning: pytensor.tensor.linalg.trace is deprecated. Use pytensor.tensor.trace instead.\n",
      "  warnings.warn(\n",
      "/home/sci/wztao/miniconda3/envs/pymc_/lib/python3.11/site-packages/pytensor/tensor/nlinalg.py:182: FutureWarning: pytensor.tensor.linalg.trace is deprecated. Use pytensor.tensor.trace instead.\n",
      "  warnings.warn(\n",
      "/home/sci/wztao/miniconda3/envs/pymc_/lib/python3.11/site-packages/pytensor/tensor/nlinalg.py:182: FutureWarning: pytensor.tensor.linalg.trace is deprecated. Use pytensor.tensor.trace instead.\n",
      "  warnings.warn(\n",
      "/home/sci/wztao/miniconda3/envs/pymc_/lib/python3.11/site-packages/pytensor/tensor/nlinalg.py:182: FutureWarning: pytensor.tensor.linalg.trace is deprecated. Use pytensor.tensor.trace instead.\n",
      "  warnings.warn(\n",
      "/home/sci/wztao/miniconda3/envs/pymc_/lib/python3.11/site-packages/pytensor/tensor/nlinalg.py:182: FutureWarning: pytensor.tensor.linalg.trace is deprecated. Use pytensor.tensor.trace instead.\n",
      "  warnings.warn(\n",
      "Only 1 samples per chain. Reliable r-hat and ESS diagnostics require longer chains for accurate estimate.\n",
      "/home/sci/wztao/miniconda3/envs/pymc_/lib/python3.11/site-packages/pytensor/tensor/nlinalg.py:182: FutureWarning: pytensor.tensor.linalg.trace is deprecated. Use pytensor.tensor.trace instead.\n",
      "  warnings.warn(\n",
      "/home/sci/wztao/miniconda3/envs/pymc_/lib/python3.11/site-packages/pytensor/tensor/nlinalg.py:182: FutureWarning: pytensor.tensor.linalg.trace is deprecated. Use pytensor.tensor.trace instead.\n",
      "  warnings.warn(\n",
      "Sequential sampling (1 chains in 1 job)\n",
      "CompoundStep\n",
      ">Metropolis: [mu]\n",
      ">Metropolis: [tau]\n",
      ">Metropolis: [alpha]\n",
      ">Metropolis: [W]\n",
      ">Metropolis: [x]\n"
     ]
    },
    {
     "data": {
      "application/vnd.jupyter.widget-view+json": {
       "model_id": "4f874e8ec7d84cbb9a0555d04cfbe966",
       "version_major": 2,
       "version_minor": 0
      },
      "text/plain": [
       "Output()"
      ]
     },
     "metadata": {},
     "output_type": "display_data"
    },
    {
     "data": {
      "text/html": [
       "<pre style=\"white-space:pre;overflow-x:auto;line-height:normal;font-family:Menlo,'DejaVu Sans Mono',consolas,'Courier New',monospace\"></pre>\n"
      ],
      "text/plain": []
     },
     "metadata": {},
     "output_type": "display_data"
    },
    {
     "data": {
      "text/html": [
       "<pre style=\"white-space:pre;overflow-x:auto;line-height:normal;font-family:Menlo,'DejaVu Sans Mono',consolas,'Courier New',monospace\">\n",
       "</pre>\n"
      ],
      "text/plain": [
       "\n"
      ]
     },
     "metadata": {},
     "output_type": "display_data"
    },
    {
     "name": "stderr",
     "output_type": "stream",
     "text": [
      "Sampling 1 chain for 0 tune and 1 draw iterations (0 + 1 draws total) took 0 seconds.\n",
      "The number of samples is too small to check convergence reliably.\n",
      "/home/sci/wztao/miniconda3/envs/pymc_/lib/python3.11/site-packages/pytensor/tensor/nlinalg.py:182: FutureWarning: pytensor.tensor.linalg.trace is deprecated. Use pytensor.tensor.trace instead.\n",
      "  warnings.warn(\n",
      "/home/sci/wztao/miniconda3/envs/pymc_/lib/python3.11/site-packages/pytensor/tensor/nlinalg.py:182: FutureWarning: pytensor.tensor.linalg.trace is deprecated. Use pytensor.tensor.trace instead.\n",
      "  warnings.warn(\n",
      "/home/sci/wztao/miniconda3/envs/pymc_/lib/python3.11/site-packages/pytensor/tensor/nlinalg.py:182: FutureWarning: pytensor.tensor.linalg.trace is deprecated. Use pytensor.tensor.trace instead.\n",
      "  warnings.warn(\n",
      "/home/sci/wztao/miniconda3/envs/pymc_/lib/python3.11/site-packages/pytensor/tensor/nlinalg.py:182: FutureWarning: pytensor.tensor.linalg.trace is deprecated. Use pytensor.tensor.trace instead.\n",
      "  warnings.warn(\n",
      "/home/sci/wztao/miniconda3/envs/pymc_/lib/python3.11/site-packages/pytensor/tensor/nlinalg.py:182: FutureWarning: pytensor.tensor.linalg.trace is deprecated. Use pytensor.tensor.trace instead.\n",
      "  warnings.warn(\n",
      "Only 1 samples per chain. Reliable r-hat and ESS diagnostics require longer chains for accurate estimate.\n",
      "/home/sci/wztao/miniconda3/envs/pymc_/lib/python3.11/site-packages/pytensor/tensor/nlinalg.py:182: FutureWarning: pytensor.tensor.linalg.trace is deprecated. Use pytensor.tensor.trace instead.\n",
      "  warnings.warn(\n",
      "/home/sci/wztao/miniconda3/envs/pymc_/lib/python3.11/site-packages/pytensor/tensor/nlinalg.py:182: FutureWarning: pytensor.tensor.linalg.trace is deprecated. Use pytensor.tensor.trace instead.\n",
      "  warnings.warn(\n",
      "Sequential sampling (1 chains in 1 job)\n",
      "CompoundStep\n",
      ">Metropolis: [mu]\n",
      ">Metropolis: [tau]\n",
      ">Metropolis: [alpha]\n",
      ">Metropolis: [W]\n",
      ">Metropolis: [x]\n"
     ]
    },
    {
     "data": {
      "application/vnd.jupyter.widget-view+json": {
       "model_id": "6134cc1994f04f9186f673398a79c686",
       "version_major": 2,
       "version_minor": 0
      },
      "text/plain": [
       "Output()"
      ]
     },
     "metadata": {},
     "output_type": "display_data"
    },
    {
     "data": {
      "text/html": [
       "<pre style=\"white-space:pre;overflow-x:auto;line-height:normal;font-family:Menlo,'DejaVu Sans Mono',consolas,'Courier New',monospace\"></pre>\n"
      ],
      "text/plain": []
     },
     "metadata": {},
     "output_type": "display_data"
    },
    {
     "data": {
      "text/html": [
       "<pre style=\"white-space:pre;overflow-x:auto;line-height:normal;font-family:Menlo,'DejaVu Sans Mono',consolas,'Courier New',monospace\">\n",
       "</pre>\n"
      ],
      "text/plain": [
       "\n"
      ]
     },
     "metadata": {},
     "output_type": "display_data"
    },
    {
     "name": "stderr",
     "output_type": "stream",
     "text": [
      "Sampling 1 chain for 0 tune and 1 draw iterations (0 + 1 draws total) took 0 seconds.\n",
      "The number of samples is too small to check convergence reliably.\n",
      "/home/sci/wztao/miniconda3/envs/pymc_/lib/python3.11/site-packages/pytensor/tensor/nlinalg.py:182: FutureWarning: pytensor.tensor.linalg.trace is deprecated. Use pytensor.tensor.trace instead.\n",
      "  warnings.warn(\n",
      "/home/sci/wztao/miniconda3/envs/pymc_/lib/python3.11/site-packages/pytensor/tensor/nlinalg.py:182: FutureWarning: pytensor.tensor.linalg.trace is deprecated. Use pytensor.tensor.trace instead.\n",
      "  warnings.warn(\n",
      "/home/sci/wztao/miniconda3/envs/pymc_/lib/python3.11/site-packages/pytensor/tensor/nlinalg.py:182: FutureWarning: pytensor.tensor.linalg.trace is deprecated. Use pytensor.tensor.trace instead.\n",
      "  warnings.warn(\n",
      "/home/sci/wztao/miniconda3/envs/pymc_/lib/python3.11/site-packages/pytensor/tensor/nlinalg.py:182: FutureWarning: pytensor.tensor.linalg.trace is deprecated. Use pytensor.tensor.trace instead.\n",
      "  warnings.warn(\n",
      "/home/sci/wztao/miniconda3/envs/pymc_/lib/python3.11/site-packages/pytensor/tensor/nlinalg.py:182: FutureWarning: pytensor.tensor.linalg.trace is deprecated. Use pytensor.tensor.trace instead.\n",
      "  warnings.warn(\n",
      "Only 1 samples per chain. Reliable r-hat and ESS diagnostics require longer chains for accurate estimate.\n",
      "/home/sci/wztao/miniconda3/envs/pymc_/lib/python3.11/site-packages/pytensor/tensor/nlinalg.py:182: FutureWarning: pytensor.tensor.linalg.trace is deprecated. Use pytensor.tensor.trace instead.\n",
      "  warnings.warn(\n",
      "/home/sci/wztao/miniconda3/envs/pymc_/lib/python3.11/site-packages/pytensor/tensor/nlinalg.py:182: FutureWarning: pytensor.tensor.linalg.trace is deprecated. Use pytensor.tensor.trace instead.\n",
      "  warnings.warn(\n",
      "Sequential sampling (1 chains in 1 job)\n",
      "CompoundStep\n",
      ">Metropolis: [mu]\n",
      ">Metropolis: [tau]\n",
      ">Metropolis: [alpha]\n",
      ">Metropolis: [W]\n",
      ">Metropolis: [x]\n"
     ]
    },
    {
     "data": {
      "application/vnd.jupyter.widget-view+json": {
       "model_id": "8d8f5bca3f0545fa9561352dcab64bb9",
       "version_major": 2,
       "version_minor": 0
      },
      "text/plain": [
       "Output()"
      ]
     },
     "metadata": {},
     "output_type": "display_data"
    },
    {
     "data": {
      "text/html": [
       "<pre style=\"white-space:pre;overflow-x:auto;line-height:normal;font-family:Menlo,'DejaVu Sans Mono',consolas,'Courier New',monospace\"></pre>\n"
      ],
      "text/plain": []
     },
     "metadata": {},
     "output_type": "display_data"
    },
    {
     "data": {
      "text/html": [
       "<pre style=\"white-space:pre;overflow-x:auto;line-height:normal;font-family:Menlo,'DejaVu Sans Mono',consolas,'Courier New',monospace\">\n",
       "</pre>\n"
      ],
      "text/plain": [
       "\n"
      ]
     },
     "metadata": {},
     "output_type": "display_data"
    },
    {
     "name": "stderr",
     "output_type": "stream",
     "text": [
      "Sampling 1 chain for 0 tune and 1 draw iterations (0 + 1 draws total) took 0 seconds.\n",
      "The number of samples is too small to check convergence reliably.\n"
     ]
    },
    {
     "name": "stdout",
     "output_type": "stream",
     "text": [
      "3.51 s ± 43.2 ms per loop (mean ± std. dev. of 3 runs, 1 loop each)\n"
     ]
    }
   ],
   "source": [
    "# %%\n",
    "\n",
    "%%timeit -n 1 -r 3\n",
    "bpca.fit(\n",
    "    iterations=1,\n",
    "    tune=0,\n",
    "    method=method,\n",
    "    )"
   ]
  },
  {
   "cell_type": "code",
   "execution_count": null,
   "id": "dd0ad660-f7c4-4e4f-8435-586b1471f38d",
   "metadata": {},
   "outputs": [
    {
     "name": "stderr",
     "output_type": "stream",
     "text": [
      "/home/sci/wztao/miniconda3/envs/pymc_/lib/python3.11/site-packages/pytensor/tensor/nlinalg.py:182: FutureWarning: pytensor.tensor.linalg.trace is deprecated. Use pytensor.tensor.trace instead.\n",
      "  warnings.warn(\n",
      "/home/sci/wztao/miniconda3/envs/pymc_/lib/python3.11/site-packages/pytensor/tensor/nlinalg.py:182: FutureWarning: pytensor.tensor.linalg.trace is deprecated. Use pytensor.tensor.trace instead.\n",
      "  warnings.warn(\n",
      "/home/sci/wztao/miniconda3/envs/pymc_/lib/python3.11/site-packages/pytensor/tensor/nlinalg.py:182: FutureWarning: pytensor.tensor.linalg.trace is deprecated. Use pytensor.tensor.trace instead.\n",
      "  warnings.warn(\n",
      "/home/sci/wztao/miniconda3/envs/pymc_/lib/python3.11/site-packages/pytensor/tensor/nlinalg.py:182: FutureWarning: pytensor.tensor.linalg.trace is deprecated. Use pytensor.tensor.trace instead.\n",
      "  warnings.warn(\n",
      "/home/sci/wztao/miniconda3/envs/pymc_/lib/python3.11/site-packages/pytensor/tensor/nlinalg.py:182: FutureWarning: pytensor.tensor.linalg.trace is deprecated. Use pytensor.tensor.trace instead.\n",
      "  warnings.warn(\n",
      "/home/sci/wztao/miniconda3/envs/pymc_/lib/python3.11/site-packages/pytensor/tensor/nlinalg.py:182: FutureWarning: pytensor.tensor.linalg.trace is deprecated. Use pytensor.tensor.trace instead.\n",
      "  warnings.warn(\n",
      "/home/sci/wztao/miniconda3/envs/pymc_/lib/python3.11/site-packages/pytensor/tensor/nlinalg.py:182: FutureWarning: pytensor.tensor.linalg.trace is deprecated. Use pytensor.tensor.trace instead.\n",
      "  warnings.warn(\n",
      "Sequential sampling (1 chains in 1 job)\n",
      "CompoundStep\n",
      ">Metropolis: [mu]\n",
      ">Metropolis: [tau]\n",
      ">Metropolis: [alpha]\n",
      ">Metropolis: [W]\n",
      ">Metropolis: [x]\n"
     ]
    },
    {
     "data": {
      "application/vnd.jupyter.widget-view+json": {
       "model_id": "6495125bfdbb4f1bb263dc633857713e",
       "version_major": 2,
       "version_minor": 0
      },
      "text/plain": [
       "Output()"
      ]
     },
     "metadata": {},
     "output_type": "display_data"
    },
    {
     "data": {
      "text/html": [
       "<pre style=\"white-space:pre;overflow-x:auto;line-height:normal;font-family:Menlo,'DejaVu Sans Mono',consolas,'Courier New',monospace\"></pre>\n"
      ],
      "text/plain": []
     },
     "metadata": {},
     "output_type": "display_data"
    },
    {
     "data": {
      "text/html": [
       "<pre style=\"white-space:pre;overflow-x:auto;line-height:normal;font-family:Menlo,'DejaVu Sans Mono',consolas,'Courier New',monospace\">\n",
       "</pre>\n"
      ],
      "text/plain": [
       "\n"
      ]
     },
     "metadata": {},
     "output_type": "display_data"
    },
    {
     "name": "stderr",
     "output_type": "stream",
     "text": [
      "Sampling 1 chain for 0 tune and 101 draw iterations (0 + 101 draws total) took 25 seconds.\n",
      "Only one chain was sampled, this makes it impossible to run some convergence checks\n",
      "/home/sci/wztao/miniconda3/envs/pymc_/lib/python3.11/site-packages/pytensor/tensor/nlinalg.py:182: FutureWarning: pytensor.tensor.linalg.trace is deprecated. Use pytensor.tensor.trace instead.\n",
      "  warnings.warn(\n",
      "/home/sci/wztao/miniconda3/envs/pymc_/lib/python3.11/site-packages/pytensor/tensor/nlinalg.py:182: FutureWarning: pytensor.tensor.linalg.trace is deprecated. Use pytensor.tensor.trace instead.\n",
      "  warnings.warn(\n",
      "/home/sci/wztao/miniconda3/envs/pymc_/lib/python3.11/site-packages/pytensor/tensor/nlinalg.py:182: FutureWarning: pytensor.tensor.linalg.trace is deprecated. Use pytensor.tensor.trace instead.\n",
      "  warnings.warn(\n",
      "/home/sci/wztao/miniconda3/envs/pymc_/lib/python3.11/site-packages/pytensor/tensor/nlinalg.py:182: FutureWarning: pytensor.tensor.linalg.trace is deprecated. Use pytensor.tensor.trace instead.\n",
      "  warnings.warn(\n",
      "/home/sci/wztao/miniconda3/envs/pymc_/lib/python3.11/site-packages/pytensor/tensor/nlinalg.py:182: FutureWarning: pytensor.tensor.linalg.trace is deprecated. Use pytensor.tensor.trace instead.\n",
      "  warnings.warn(\n",
      "/home/sci/wztao/miniconda3/envs/pymc_/lib/python3.11/site-packages/pytensor/tensor/nlinalg.py:182: FutureWarning: pytensor.tensor.linalg.trace is deprecated. Use pytensor.tensor.trace instead.\n",
      "  warnings.warn(\n",
      "/home/sci/wztao/miniconda3/envs/pymc_/lib/python3.11/site-packages/pytensor/tensor/nlinalg.py:182: FutureWarning: pytensor.tensor.linalg.trace is deprecated. Use pytensor.tensor.trace instead.\n",
      "  warnings.warn(\n",
      "Sequential sampling (1 chains in 1 job)\n",
      "CompoundStep\n",
      ">Metropolis: [mu]\n",
      ">Metropolis: [tau]\n",
      ">Metropolis: [alpha]\n",
      ">Metropolis: [W]\n",
      ">Metropolis: [x]\n"
     ]
    },
    {
     "data": {
      "application/vnd.jupyter.widget-view+json": {
       "model_id": "bd0c9cf88a6845c49c3e863536560f6a",
       "version_major": 2,
       "version_minor": 0
      },
      "text/plain": [
       "Output()"
      ]
     },
     "metadata": {},
     "output_type": "display_data"
    },
    {
     "data": {
      "text/html": [
       "<pre style=\"white-space:pre;overflow-x:auto;line-height:normal;font-family:Menlo,'DejaVu Sans Mono',consolas,'Courier New',monospace\"></pre>\n"
      ],
      "text/plain": []
     },
     "metadata": {},
     "output_type": "display_data"
    },
    {
     "data": {
      "text/html": [
       "<pre style=\"white-space:pre;overflow-x:auto;line-height:normal;font-family:Menlo,'DejaVu Sans Mono',consolas,'Courier New',monospace\">\n",
       "</pre>\n"
      ],
      "text/plain": [
       "\n"
      ]
     },
     "metadata": {},
     "output_type": "display_data"
    },
    {
     "name": "stderr",
     "output_type": "stream",
     "text": [
      "Sampling 1 chain for 0 tune and 101 draw iterations (0 + 101 draws total) took 25 seconds.\n",
      "Only one chain was sampled, this makes it impossible to run some convergence checks\n",
      "/home/sci/wztao/miniconda3/envs/pymc_/lib/python3.11/site-packages/pytensor/tensor/nlinalg.py:182: FutureWarning: pytensor.tensor.linalg.trace is deprecated. Use pytensor.tensor.trace instead.\n",
      "  warnings.warn(\n",
      "/home/sci/wztao/miniconda3/envs/pymc_/lib/python3.11/site-packages/pytensor/tensor/nlinalg.py:182: FutureWarning: pytensor.tensor.linalg.trace is deprecated. Use pytensor.tensor.trace instead.\n",
      "  warnings.warn(\n",
      "/home/sci/wztao/miniconda3/envs/pymc_/lib/python3.11/site-packages/pytensor/tensor/nlinalg.py:182: FutureWarning: pytensor.tensor.linalg.trace is deprecated. Use pytensor.tensor.trace instead.\n",
      "  warnings.warn(\n",
      "/home/sci/wztao/miniconda3/envs/pymc_/lib/python3.11/site-packages/pytensor/tensor/nlinalg.py:182: FutureWarning: pytensor.tensor.linalg.trace is deprecated. Use pytensor.tensor.trace instead.\n",
      "  warnings.warn(\n",
      "/home/sci/wztao/miniconda3/envs/pymc_/lib/python3.11/site-packages/pytensor/tensor/nlinalg.py:182: FutureWarning: pytensor.tensor.linalg.trace is deprecated. Use pytensor.tensor.trace instead.\n",
      "  warnings.warn(\n",
      "/home/sci/wztao/miniconda3/envs/pymc_/lib/python3.11/site-packages/pytensor/tensor/nlinalg.py:182: FutureWarning: pytensor.tensor.linalg.trace is deprecated. Use pytensor.tensor.trace instead.\n",
      "  warnings.warn(\n",
      "/home/sci/wztao/miniconda3/envs/pymc_/lib/python3.11/site-packages/pytensor/tensor/nlinalg.py:182: FutureWarning: pytensor.tensor.linalg.trace is deprecated. Use pytensor.tensor.trace instead.\n",
      "  warnings.warn(\n",
      "Sequential sampling (1 chains in 1 job)\n",
      "CompoundStep\n",
      ">Metropolis: [mu]\n",
      ">Metropolis: [tau]\n",
      ">Metropolis: [alpha]\n",
      ">Metropolis: [W]\n",
      ">Metropolis: [x]\n"
     ]
    },
    {
     "data": {
      "application/vnd.jupyter.widget-view+json": {
       "model_id": "468252c138ad461cac1dad011bf4df95",
       "version_major": 2,
       "version_minor": 0
      },
      "text/plain": [
       "Output()"
      ]
     },
     "metadata": {},
     "output_type": "display_data"
    },
    {
     "data": {
      "text/html": [
       "<pre style=\"white-space:pre;overflow-x:auto;line-height:normal;font-family:Menlo,'DejaVu Sans Mono',consolas,'Courier New',monospace\"></pre>\n"
      ],
      "text/plain": []
     },
     "metadata": {},
     "output_type": "display_data"
    },
    {
     "data": {
      "text/html": [
       "<pre style=\"white-space:pre;overflow-x:auto;line-height:normal;font-family:Menlo,'DejaVu Sans Mono',consolas,'Courier New',monospace\">\n",
       "</pre>\n"
      ],
      "text/plain": [
       "\n"
      ]
     },
     "metadata": {},
     "output_type": "display_data"
    },
    {
     "name": "stderr",
     "output_type": "stream",
     "text": [
      "Sampling 1 chain for 0 tune and 101 draw iterations (0 + 101 draws total) took 25 seconds.\n",
      "Only one chain was sampled, this makes it impossible to run some convergence checks\n"
     ]
    },
    {
     "name": "stdout",
     "output_type": "stream",
     "text": [
      "27.9 s ± 25.6 ms per loop (mean ± std. dev. of 3 runs, 1 loop each)\n"
     ]
    }
   ],
   "source": [
    "# %%\n",
    "\n",
    "%%timeit -n 1 -r 3\n",
    "bpca.fit(\n",
    "    iterations=101,\n",
    "    tune=0,\n",
    "    method=method,\n",
    "    )"
   ]
  },
  {
   "cell_type": "code",
   "execution_count": null,
   "id": "d6013dca-41b9-49f7-a454-1e317c76da8b",
   "metadata": {},
   "outputs": [
    {
     "name": "stdout",
     "output_type": "stream",
     "text": [
      "method = hmc\n"
     ]
    }
   ],
   "source": [
    "# %%\n",
    "\n",
    "'''\n",
    "time each sampling method\n",
    "'''\n",
    "# method = 'nuts'\n",
    "# method = 'metropolis'\n",
    "method = 'hmc'\n",
    "# method = 'smc'\n",
    "print(f'method = {method}')"
   ]
  },
  {
   "cell_type": "code",
   "execution_count": null,
   "id": "2af1fe0c-99ac-4d94-92cb-b61c0a1c75e9",
   "metadata": {},
   "outputs": [
    {
     "name": "stderr",
     "output_type": "stream",
     "text": [
      "/home/sci/wztao/miniconda3/envs/pymc_/lib/python3.11/site-packages/pytensor/tensor/nlinalg.py:182: FutureWarning: pytensor.tensor.linalg.trace is deprecated. Use pytensor.tensor.trace instead.\n",
      "  warnings.warn(\n",
      "Only 1 samples per chain. Reliable r-hat and ESS diagnostics require longer chains for accurate estimate.\n",
      "/home/sci/wztao/miniconda3/envs/pymc_/lib/python3.11/site-packages/pytensor/tensor/nlinalg.py:182: FutureWarning: pytensor.tensor.linalg.trace is deprecated. Use pytensor.tensor.trace instead.\n",
      "  warnings.warn(\n",
      "/home/sci/wztao/miniconda3/envs/pymc_/lib/python3.11/site-packages/pytensor/tensor/nlinalg.py:182: FutureWarning: pytensor.tensor.linalg.trace is deprecated. Use pytensor.tensor.trace instead.\n",
      "  warnings.warn(\n",
      "Sequential sampling (1 chains in 1 job)\n",
      "HamiltonianMC: [mu, tau, alpha, W, x]\n"
     ]
    },
    {
     "data": {
      "application/vnd.jupyter.widget-view+json": {
       "model_id": "41d580c01c244e2f97a7e3e788e47b01",
       "version_major": 2,
       "version_minor": 0
      },
      "text/plain": [
       "Output()"
      ]
     },
     "metadata": {},
     "output_type": "display_data"
    },
    {
     "data": {
      "text/html": [
       "<pre style=\"white-space:pre;overflow-x:auto;line-height:normal;font-family:Menlo,'DejaVu Sans Mono',consolas,'Courier New',monospace\"></pre>\n"
      ],
      "text/plain": []
     },
     "metadata": {},
     "output_type": "display_data"
    },
    {
     "data": {
      "text/html": [
       "<pre style=\"white-space:pre;overflow-x:auto;line-height:normal;font-family:Menlo,'DejaVu Sans Mono',consolas,'Courier New',monospace\">\n",
       "</pre>\n"
      ],
      "text/plain": [
       "\n"
      ]
     },
     "metadata": {},
     "output_type": "display_data"
    },
    {
     "name": "stderr",
     "output_type": "stream",
     "text": [
      "Sampling 1 chain for 0 tune and 1 draw iterations (0 + 1 draws total) took 0 seconds.\n",
      "The number of samples is too small to check convergence reliably.\n",
      "/home/sci/wztao/miniconda3/envs/pymc_/lib/python3.11/site-packages/pytensor/tensor/nlinalg.py:182: FutureWarning: pytensor.tensor.linalg.trace is deprecated. Use pytensor.tensor.trace instead.\n",
      "  warnings.warn(\n",
      "Only 1 samples per chain. Reliable r-hat and ESS diagnostics require longer chains for accurate estimate.\n",
      "/home/sci/wztao/miniconda3/envs/pymc_/lib/python3.11/site-packages/pytensor/tensor/nlinalg.py:182: FutureWarning: pytensor.tensor.linalg.trace is deprecated. Use pytensor.tensor.trace instead.\n",
      "  warnings.warn(\n",
      "/home/sci/wztao/miniconda3/envs/pymc_/lib/python3.11/site-packages/pytensor/tensor/nlinalg.py:182: FutureWarning: pytensor.tensor.linalg.trace is deprecated. Use pytensor.tensor.trace instead.\n",
      "  warnings.warn(\n",
      "Sequential sampling (1 chains in 1 job)\n",
      "HamiltonianMC: [mu, tau, alpha, W, x]\n"
     ]
    },
    {
     "data": {
      "application/vnd.jupyter.widget-view+json": {
       "model_id": "8f253d5fd8674978b771f75a1ce1a3e6",
       "version_major": 2,
       "version_minor": 0
      },
      "text/plain": [
       "Output()"
      ]
     },
     "metadata": {},
     "output_type": "display_data"
    },
    {
     "data": {
      "text/html": [
       "<pre style=\"white-space:pre;overflow-x:auto;line-height:normal;font-family:Menlo,'DejaVu Sans Mono',consolas,'Courier New',monospace\"></pre>\n"
      ],
      "text/plain": []
     },
     "metadata": {},
     "output_type": "display_data"
    },
    {
     "data": {
      "text/html": [
       "<pre style=\"white-space:pre;overflow-x:auto;line-height:normal;font-family:Menlo,'DejaVu Sans Mono',consolas,'Courier New',monospace\">\n",
       "</pre>\n"
      ],
      "text/plain": [
       "\n"
      ]
     },
     "metadata": {},
     "output_type": "display_data"
    },
    {
     "name": "stderr",
     "output_type": "stream",
     "text": [
      "Sampling 1 chain for 0 tune and 1 draw iterations (0 + 1 draws total) took 0 seconds.\n",
      "The number of samples is too small to check convergence reliably.\n",
      "/home/sci/wztao/miniconda3/envs/pymc_/lib/python3.11/site-packages/pytensor/tensor/nlinalg.py:182: FutureWarning: pytensor.tensor.linalg.trace is deprecated. Use pytensor.tensor.trace instead.\n",
      "  warnings.warn(\n",
      "Only 1 samples per chain. Reliable r-hat and ESS diagnostics require longer chains for accurate estimate.\n",
      "/home/sci/wztao/miniconda3/envs/pymc_/lib/python3.11/site-packages/pytensor/tensor/nlinalg.py:182: FutureWarning: pytensor.tensor.linalg.trace is deprecated. Use pytensor.tensor.trace instead.\n",
      "  warnings.warn(\n",
      "/home/sci/wztao/miniconda3/envs/pymc_/lib/python3.11/site-packages/pytensor/tensor/nlinalg.py:182: FutureWarning: pytensor.tensor.linalg.trace is deprecated. Use pytensor.tensor.trace instead.\n",
      "  warnings.warn(\n",
      "Sequential sampling (1 chains in 1 job)\n",
      "HamiltonianMC: [mu, tau, alpha, W, x]\n"
     ]
    },
    {
     "data": {
      "application/vnd.jupyter.widget-view+json": {
       "model_id": "9f1c79d00b294d03b22cd96165e2840a",
       "version_major": 2,
       "version_minor": 0
      },
      "text/plain": [
       "Output()"
      ]
     },
     "metadata": {},
     "output_type": "display_data"
    },
    {
     "data": {
      "text/html": [
       "<pre style=\"white-space:pre;overflow-x:auto;line-height:normal;font-family:Menlo,'DejaVu Sans Mono',consolas,'Courier New',monospace\"></pre>\n"
      ],
      "text/plain": []
     },
     "metadata": {},
     "output_type": "display_data"
    },
    {
     "data": {
      "text/html": [
       "<pre style=\"white-space:pre;overflow-x:auto;line-height:normal;font-family:Menlo,'DejaVu Sans Mono',consolas,'Courier New',monospace\">\n",
       "</pre>\n"
      ],
      "text/plain": [
       "\n"
      ]
     },
     "metadata": {},
     "output_type": "display_data"
    },
    {
     "name": "stderr",
     "output_type": "stream",
     "text": [
      "Sampling 1 chain for 0 tune and 1 draw iterations (0 + 1 draws total) took 0 seconds.\n",
      "The number of samples is too small to check convergence reliably.\n"
     ]
    },
    {
     "name": "stdout",
     "output_type": "stream",
     "text": [
      "3.12 s ± 27.2 ms per loop (mean ± std. dev. of 3 runs, 1 loop each)\n"
     ]
    }
   ],
   "source": [
    "# %%\n",
    "\n",
    "%%timeit -n 1 -r 3\n",
    "bpca.fit(\n",
    "    iterations=1,\n",
    "    tune=0,\n",
    "    method=method,\n",
    "    )"
   ]
  },
  {
   "cell_type": "code",
   "execution_count": null,
   "id": "d911357a-2c2c-4230-a073-c44a142d2cc9",
   "metadata": {},
   "outputs": [
    {
     "name": "stderr",
     "output_type": "stream",
     "text": [
      "/home/sci/wztao/miniconda3/envs/pymc_/lib/python3.11/site-packages/pytensor/tensor/nlinalg.py:182: FutureWarning: pytensor.tensor.linalg.trace is deprecated. Use pytensor.tensor.trace instead.\n",
      "  warnings.warn(\n",
      "/home/sci/wztao/miniconda3/envs/pymc_/lib/python3.11/site-packages/pytensor/tensor/nlinalg.py:182: FutureWarning: pytensor.tensor.linalg.trace is deprecated. Use pytensor.tensor.trace instead.\n",
      "  warnings.warn(\n",
      "/home/sci/wztao/miniconda3/envs/pymc_/lib/python3.11/site-packages/pytensor/tensor/nlinalg.py:182: FutureWarning: pytensor.tensor.linalg.trace is deprecated. Use pytensor.tensor.trace instead.\n",
      "  warnings.warn(\n",
      "Sequential sampling (1 chains in 1 job)\n",
      "HamiltonianMC: [mu, tau, alpha, W, x]\n"
     ]
    },
    {
     "data": {
      "application/vnd.jupyter.widget-view+json": {
       "model_id": "a9af352196c3433081efc6b123141eea",
       "version_major": 2,
       "version_minor": 0
      },
      "text/plain": [
       "Output()"
      ]
     },
     "metadata": {},
     "output_type": "display_data"
    },
    {
     "data": {
      "text/html": [
       "<pre style=\"white-space:pre;overflow-x:auto;line-height:normal;font-family:Menlo,'DejaVu Sans Mono',consolas,'Courier New',monospace\"></pre>\n"
      ],
      "text/plain": []
     },
     "metadata": {},
     "output_type": "display_data"
    },
    {
     "data": {
      "text/html": [
       "<pre style=\"white-space:pre;overflow-x:auto;line-height:normal;font-family:Menlo,'DejaVu Sans Mono',consolas,'Courier New',monospace\">\n",
       "</pre>\n"
      ],
      "text/plain": [
       "\n"
      ]
     },
     "metadata": {},
     "output_type": "display_data"
    },
    {
     "name": "stderr",
     "output_type": "stream",
     "text": [
      "Sampling 1 chain for 0 tune and 101 draw iterations (0 + 101 draws total) took 4 seconds.\n",
      "There were 20 divergences after tuning. Increase `target_accept` or reparameterize.\n",
      "Only one chain was sampled, this makes it impossible to run some convergence checks\n",
      "/home/sci/wztao/miniconda3/envs/pymc_/lib/python3.11/site-packages/pytensor/tensor/nlinalg.py:182: FutureWarning: pytensor.tensor.linalg.trace is deprecated. Use pytensor.tensor.trace instead.\n",
      "  warnings.warn(\n",
      "/home/sci/wztao/miniconda3/envs/pymc_/lib/python3.11/site-packages/pytensor/tensor/nlinalg.py:182: FutureWarning: pytensor.tensor.linalg.trace is deprecated. Use pytensor.tensor.trace instead.\n",
      "  warnings.warn(\n",
      "/home/sci/wztao/miniconda3/envs/pymc_/lib/python3.11/site-packages/pytensor/tensor/nlinalg.py:182: FutureWarning: pytensor.tensor.linalg.trace is deprecated. Use pytensor.tensor.trace instead.\n",
      "  warnings.warn(\n",
      "Sequential sampling (1 chains in 1 job)\n",
      "HamiltonianMC: [mu, tau, alpha, W, x]\n"
     ]
    },
    {
     "data": {
      "application/vnd.jupyter.widget-view+json": {
       "model_id": "5bcca106ab8e4b74b9b98d5908f489b5",
       "version_major": 2,
       "version_minor": 0
      },
      "text/plain": [
       "Output()"
      ]
     },
     "metadata": {},
     "output_type": "display_data"
    },
    {
     "data": {
      "text/html": [
       "<pre style=\"white-space:pre;overflow-x:auto;line-height:normal;font-family:Menlo,'DejaVu Sans Mono',consolas,'Courier New',monospace\"></pre>\n"
      ],
      "text/plain": []
     },
     "metadata": {},
     "output_type": "display_data"
    },
    {
     "data": {
      "text/html": [
       "<pre style=\"white-space:pre;overflow-x:auto;line-height:normal;font-family:Menlo,'DejaVu Sans Mono',consolas,'Courier New',monospace\">\n",
       "</pre>\n"
      ],
      "text/plain": [
       "\n"
      ]
     },
     "metadata": {},
     "output_type": "display_data"
    },
    {
     "name": "stderr",
     "output_type": "stream",
     "text": [
      "Sampling 1 chain for 0 tune and 101 draw iterations (0 + 101 draws total) took 3 seconds.\n",
      "There were 31 divergences after tuning. Increase `target_accept` or reparameterize.\n",
      "Only one chain was sampled, this makes it impossible to run some convergence checks\n",
      "/home/sci/wztao/miniconda3/envs/pymc_/lib/python3.11/site-packages/pytensor/tensor/nlinalg.py:182: FutureWarning: pytensor.tensor.linalg.trace is deprecated. Use pytensor.tensor.trace instead.\n",
      "  warnings.warn(\n",
      "/home/sci/wztao/miniconda3/envs/pymc_/lib/python3.11/site-packages/pytensor/tensor/nlinalg.py:182: FutureWarning: pytensor.tensor.linalg.trace is deprecated. Use pytensor.tensor.trace instead.\n",
      "  warnings.warn(\n",
      "/home/sci/wztao/miniconda3/envs/pymc_/lib/python3.11/site-packages/pytensor/tensor/nlinalg.py:182: FutureWarning: pytensor.tensor.linalg.trace is deprecated. Use pytensor.tensor.trace instead.\n",
      "  warnings.warn(\n",
      "Sequential sampling (1 chains in 1 job)\n",
      "HamiltonianMC: [mu, tau, alpha, W, x]\n"
     ]
    },
    {
     "data": {
      "application/vnd.jupyter.widget-view+json": {
       "model_id": "274b9123f78d46c79e8a3b30ce55786e",
       "version_major": 2,
       "version_minor": 0
      },
      "text/plain": [
       "Output()"
      ]
     },
     "metadata": {},
     "output_type": "display_data"
    },
    {
     "data": {
      "text/html": [
       "<pre style=\"white-space:pre;overflow-x:auto;line-height:normal;font-family:Menlo,'DejaVu Sans Mono',consolas,'Courier New',monospace\"></pre>\n"
      ],
      "text/plain": []
     },
     "metadata": {},
     "output_type": "display_data"
    },
    {
     "data": {
      "text/html": [
       "<pre style=\"white-space:pre;overflow-x:auto;line-height:normal;font-family:Menlo,'DejaVu Sans Mono',consolas,'Courier New',monospace\">\n",
       "</pre>\n"
      ],
      "text/plain": [
       "\n"
      ]
     },
     "metadata": {},
     "output_type": "display_data"
    },
    {
     "name": "stderr",
     "output_type": "stream",
     "text": [
      "Sampling 1 chain for 0 tune and 101 draw iterations (0 + 101 draws total) took 4 seconds.\n",
      "There were 15 divergences after tuning. Increase `target_accept` or reparameterize.\n",
      "Only one chain was sampled, this makes it impossible to run some convergence checks\n"
     ]
    },
    {
     "name": "stdout",
     "output_type": "stream",
     "text": [
      "6.57 s ± 76.7 ms per loop (mean ± std. dev. of 3 runs, 1 loop each)\n"
     ]
    }
   ],
   "source": [
    "# %%\n",
    "\n",
    "%%timeit -n 1 -r 3\n",
    "bpca.fit(\n",
    "    iterations=101,\n",
    "    tune=0,\n",
    "    method=method,\n",
    "    )"
   ]
  }
 ],
 "metadata": {
  "language_info": {
   "codemirror_mode": {
    "name": "ipython",
    "version": 3
   },
   "file_extension": ".py",
   "mimetype": "text/x-python",
   "name": "python",
   "nbconvert_exporter": "python",
   "pygments_lexer": "ipython3",
   "version": 3
  }
 },
 "nbformat": 4,
 "nbformat_minor": 2
}
